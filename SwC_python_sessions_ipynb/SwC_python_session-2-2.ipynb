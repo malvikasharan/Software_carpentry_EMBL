{
 "cells": [
  {
   "cell_type": "markdown",
   "metadata": {},
   "source": [
    "# Python session - 2.2\n",
    "\n",
    "## Functions and modules"
   ]
  },
  {
   "cell_type": "markdown",
   "metadata": {
    "collapsed": true
   },
   "source": [
    "## Functions\n",
    "\n",
    "Functions are reusable blocks of code that you can name and execute any number of times from different parts of your script(s). This reuse is known as \"calling\" the function. Functions are important building blocks of a software.\n",
    "\n",
    "There are several built-in functions of Python, which can be called anywhere (and any number of times) in your current program. You have been using built-in functions already, for example, `len()`, `range()`, `sorted()`, `max()`, `min()`, `sum()` etc."
   ]
  },
  {
   "cell_type": "markdown",
   "metadata": {},
   "source": [
    "#### Structure of writing a function:\n",
    "\n",
    "- `def` (keyword) + function name (you choose) + `()`.\n",
    "- newline with 4 spaces or a tab +  block of code # Note: Codes at the 0 position are always read\n",
    "- Call your function using its name"
   ]
  },
  {
   "cell_type": "code",
   "execution_count": null,
   "metadata": {
    "collapsed": true
   },
   "outputs": [],
   "source": [
    "## Non parametric function\n",
    "# Define a function that prints a sum of number1 and number2 defined inside the function\n",
    "\n",
    "get_sum()"
   ]
  },
  {
   "cell_type": "code",
   "execution_count": 23,
   "metadata": {
    "collapsed": false
   },
   "outputs": [],
   "source": [
    "# Parametric function\n",
    "# Define a function that prints a sum of number1 and number2 provided by the user\n",
    "# Hint: get_sum_param(number1, number2)\n"
   ]
  },
  {
   "cell_type": "code",
   "execution_count": 26,
   "metadata": {
    "collapsed": false
   },
   "outputs": [],
   "source": [
    "# Returning values\n",
    "# Define a function that 'returns' a sum of number1 and number2 provided by the user\n",
    "# Hint: print(get_sum_param(number1, number2))\n"
   ]
  },
  {
   "cell_type": "code",
   "execution_count": 32,
   "metadata": {
    "collapsed": false
   },
   "outputs": [],
   "source": [
    "# Local Vs. global variable\n",
    "\n",
    "# Define a function that returns a sum of number1 and number2 to a variable\n",
    "# and print it after calling the function\n",
    "# Hint: returned_value = get_sum_param(number1, number2)\n"
   ]
  },
  {
   "cell_type": "markdown",
   "metadata": {},
   "source": [
    "### Exercises: write old codes into a function"
   ]
  },
  {
   "cell_type": "code",
   "execution_count": 30,
   "metadata": {
    "collapsed": true
   },
   "outputs": [],
   "source": [
    "# Optional exercise\n",
    "# Let’s take one of our older codes and write them in function\n"
   ]
  },
  {
   "cell_type": "markdown",
   "metadata": {},
   "source": [
    "### Using Modules\n",
    "\n",
    "One of the great things about Python is the free availability of a _huge_ number of modules that can be imported into your code and used. Modules are developed with the aim of solving some particular problem or providing particular, often domain-specific, capabilities.\n",
    "\n",
    "Like functions, which are usable parts of a program, packages (also known as libraries) are reusable programs with several modules.\n",
    "\n",
    "In order to import a module, it must first be installed and available on your system. We will cover this briefly later in the course.  \n",
    "\n",
    "A large number of modules are already available for import in the standard distribution of Python: this is known as the standard library. If you installed the Anaconda distribution of Python, you have even more modules already installed - mostly aimed at data science.\n",
    "\n",
    "Importing a module is easy:\n",
    "\n",
    "- Import (keyword) + package name, for example: \n",
    "    - import os           # contains functions for interacting with the operating system\n",
    "    - import sys          # Contains utilities to process command line arguments\n",
    "\n",
    "More at: https://pypi.python.org/pypi"
   ]
  },
  {
   "cell_type": "code",
   "execution_count": 34,
   "metadata": {
    "collapsed": false
   },
   "outputs": [],
   "source": [
    "import os\n",
    "os.getcwd()\n",
    "os.mkdir(\"new_dir_name\")\n",
    "help(os)                    # manual page created from the module's docstrings"
   ]
  },
  {
   "cell_type": "code",
   "execution_count": 37,
   "metadata": {
    "collapsed": false
   },
   "outputs": [],
   "source": [
    "import sys\n",
    "print(sys.argv)"
   ]
  },
  {
   "cell_type": "markdown",
   "metadata": {},
   "source": [
    "### Using loops to iterate through files in a directory"
   ]
  },
  {
   "cell_type": "code",
   "execution_count": 46,
   "metadata": {
    "collapsed": false
   },
   "outputs": [],
   "source": [
    "# define a function that lists all the files in the folder called demo_folder\n",
    "\n",
    "import os\n",
    "\n",
    "def read_each_filename(pathname):\n",
    "    ...\n",
    "pathname = 'demo_folder' # name of path with multiple files\n",
    "read_each_filename(pathname)"
   ]
  },
  {
   "cell_type": "code",
   "execution_count": 44,
   "metadata": {
    "collapsed": false
   },
   "outputs": [],
   "source": [
    "# define a function that reads and prints each lines of each file in the folder called demo_folder\n",
    "\n",
    "import os\n",
    "\n",
    "def read_each_line_of_each_file(pathname): # name of path with multiple files\n",
    "    ...\n",
    "pathname = 'demo_folder' # name of path with multiple files\n",
    "read_each_line_of_each_file(pathname)\n",
    "\n",
    "# Hints:\n",
    "# Options for opening files\n",
    "# option-1: with open(\"{}/{}\".format(pathname, filename)) as in_fh:\n",
    "# option-2: with open('%s/%s' % (pathname, filename)) as in_fh:\n",
    "# option-3: with open(pathname + '/' + filename) as in_fh:\n",
    "# option-4: with open(os.path.join(pathname, filename)) as in_fh:"
   ]
  },
  {
   "cell_type": "code",
   "execution_count": 41,
   "metadata": {
    "collapsed": true
   },
   "outputs": [],
   "source": [
    "# Exercise: Go through each filename in the directory 'demo_folder'\n",
    "# open those files that end with only '.csv' or only with '.fasta."
   ]
  },
  {
   "cell_type": "code",
   "execution_count": 47,
   "metadata": {
    "collapsed": true
   },
   "outputs": [],
   "source": [
    "# Optional exercises (We will cover this in the session - 3)\n",
    "\n",
    "# 1. Extract the length of fasta sequence for kinases from the file 'fasta_human_kinase.fasta'\n",
    "# 2. Extract the UniProt for kinases from the file 'human_kinase.csv'"
   ]
  },
  {
   "cell_type": "markdown",
   "metadata": {},
   "source": [
    "#### Examples of importing basic modules."
   ]
  },
  {
   "cell_type": "code",
   "execution_count": 6,
   "metadata": {
    "collapsed": false
   },
   "outputs": [],
   "source": [
    "# import numpy\n",
    "# array_one = numpy.array([1,2,3,4,5,6])\n",
    "# print(array_one)"
   ]
  },
  {
   "cell_type": "code",
   "execution_count": 7,
   "metadata": {
    "collapsed": true
   },
   "outputs": [],
   "source": [
    "# import pandas\n",
    "# data = pandas.read_table()\n",
    "# data.plot()"
   ]
  },
  {
   "cell_type": "markdown",
   "metadata": {},
   "source": [
    "#### Aside: Namespaces\n",
    "Python uses namespaces a lot, to ensure appropriate separation of functions, attributes, methdos etc between modules and objects. When you import an entire module, the functions and classes available within that module are loaded in under the modules namespace - `pandas` in the example above.  \n",
    "It is possible to customise the namespace at the point of import, allowing you to e.g. shorten/abbreviate the module name to save some typing:"
   ]
  },
  {
   "cell_type": "code",
   "execution_count": 9,
   "metadata": {
    "collapsed": false
   },
   "outputs": [],
   "source": [
    "# import numpy as np\n",
    "# array_two = np.array([10, 11, 12, 13, 14])\n",
    "# print(array_two)"
   ]
  },
  {
   "cell_type": "code",
   "execution_count": 10,
   "metadata": {
    "collapsed": true
   },
   "outputs": [],
   "source": [
    "# import pandas as pd\n",
    "# data = pd.read_table()\n",
    "# data.plot()"
   ]
  },
  {
   "cell_type": "markdown",
   "metadata": {},
   "source": [
    "Also, as in the examples above, if you need only a single function from a module, you can import that directly into your main namespace (where you don't need to specify the module before the name of the function):"
   ]
  },
  {
   "cell_type": "code",
   "execution_count": 12,
   "metadata": {
    "collapsed": false
   },
   "outputs": [],
   "source": [
    "# from numpy import array\n",
    "# array_three = array([1, 1, 2, 3, 5, 8])\n",
    "# print(array_three)"
   ]
  },
  {
   "cell_type": "code",
   "execution_count": 14,
   "metadata": {
    "collapsed": false
   },
   "outputs": [],
   "source": [
    "# from pandas import read_table\n",
    "# data = read_table()\n",
    "# data.plot()"
   ]
  },
  {
   "cell_type": "markdown",
   "metadata": {},
   "source": [
    "#### Conventions\n",
    "- You should perform all of your imports at the beginning of your program. This ensures that\n",
    "  - users can easily identify the dependencies of a program, and \n",
    "  - that any lacking dependencies (causing fatal `ImportError` exceptions) are caught early in execution\n",
    "- the shortening of `numpy` to `np` and `pandas` to `pd` are very common, and there are others too - watch out for this when e.g. reading docs and guides/SO answers online."
   ]
  },
  {
   "cell_type": "markdown",
   "metadata": {},
   "source": [
    "### Execises - Importing"
   ]
  },
  {
   "cell_type": "code",
   "execution_count": 16,
   "metadata": {
    "collapsed": false
   },
   "outputs": [],
   "source": [
    "# --- numpy\n",
    "# series_a = numpy.array([5, 5, 5, 5, 5])\n",
    "# series_b = ---.array([1, 2, 3, 4, 5])\n",
    "# series_c = series_a - series_b\n",
    "# print(series_c)"
   ]
  },
  {
   "cell_type": "code",
   "execution_count": 17,
   "metadata": {
    "collapsed": true
   },
   "outputs": [],
   "source": [
    "# import pandas --- pd\n",
    "# data = pd.read_table()"
   ]
  },
  {
   "cell_type": "markdown",
   "metadata": {},
   "source": [
    "#### Aside: Your Own Modules\n",
    "Whenever you write some python code and save it as a script, with the `.py` file extension, you are creating your own module. If you define functions within that module, you can load them into other scripts and sessions."
   ]
  },
  {
   "cell_type": "markdown",
   "metadata": {},
   "source": [
    "### Some Interesting Module Libraries to Investigate\n",
    "- os\n",
    "- sys\n",
    "- shutil\n",
    "- random\n",
    "- collections\n",
    "- math\n",
    "- argparse\n",
    "- time\n",
    "- datetime\n",
    "- numpy\n",
    "- scipy\n",
    "- matplotlib\n",
    "- pandas\n",
    "- scikit-learn\n",
    "- requests\n",
    "- biopython\n",
    "- openpyxl"
   ]
  },
  {
   "cell_type": "code",
   "execution_count": null,
   "metadata": {
    "collapsed": true
   },
   "outputs": [],
   "source": []
  }
 ],
 "metadata": {
  "kernelspec": {
   "display_name": "Python 3",
   "language": "python",
   "name": "python3"
  },
  "language_info": {
   "codemirror_mode": {
    "name": "ipython",
    "version": 3
   },
   "file_extension": ".py",
   "mimetype": "text/x-python",
   "name": "python",
   "nbconvert_exporter": "python",
   "pygments_lexer": "ipython3",
   "version": "3.5.0a3"
  }
 },
 "nbformat": 4,
 "nbformat_minor": 0
}
