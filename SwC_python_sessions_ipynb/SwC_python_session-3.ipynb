{
 "cells": [
  {
   "cell_type": "markdown",
   "metadata": {},
   "source": [
    "# Session - 3"
   ]
  },
  {
   "cell_type": "markdown",
   "metadata": {},
   "source": [
    "## Flow chart problems"
   ]
  },
  {
   "cell_type": "markdown",
   "metadata": {},
   "source": [
    "## Exercise - 1\n",
    "\n",
    "Use `input()` (or `sys.argv[1]` in commandline) to supply a name to your python script that says 'Hi' only to Alice as shown in the flow chart below.\n",
    "![alice](flow_charts/alice.jpg)\n"
   ]
  },
  {
   "cell_type": "code",
   "execution_count": null,
   "metadata": {
    "collapsed": true
   },
   "outputs": [],
   "source": []
  },
  {
   "cell_type": "markdown",
   "metadata": {},
   "source": [
    "## Exercise - 2\n",
    "\n",
    "Here is a flowchart that tells you what to do if it is raining. Transfer this functionality to a Python function.\n",
    "\n",
    "![rain_fc](flow_charts/rain_fc.jpg)"
   ]
  },
  {
   "cell_type": "code",
   "execution_count": null,
   "metadata": {
    "collapsed": true
   },
   "outputs": [],
   "source": []
  },
  {
   "cell_type": "markdown",
   "metadata": {},
   "source": [
    "## Exercise - 3\n",
    "\n",
    "Go through each filename in the directory 'demo_folder'\n",
    "\n",
    "1. Extract the length of fasta sequence for kinases from the file 'fasta_human_kinase.fasta'\n",
    "2. Extract the UniProt for kinases from the file 'human_kinase.csv'\n",
    "3. Check if your scripts works on other files of same format in the directory\n",
    "4. Automate your script to go through each file and extract these information from each file of same format\n"
   ]
  },
  {
   "cell_type": "code",
   "execution_count": null,
   "metadata": {
    "collapsed": true
   },
   "outputs": [],
   "source": []
  },
  {
   "cell_type": "markdown",
   "metadata": {
    "collapsed": true
   },
   "source": [
    "## Exercise - 4\n",
    "\n",
    "Adapted from: http://usingpython.com/python-for-loop/\n",
    "![for_loop_fc](flow_charts/for_loop_flow_chart.png)"
   ]
  },
  {
   "cell_type": "code",
   "execution_count": 2,
   "metadata": {
    "collapsed": false
   },
   "outputs": [],
   "source": [
    "#1. start: set initial value of total_score to 0\n",
    "total_score = 0\n",
    "\n",
    "#2. Create a vovel list\n",
    "vowels = [---]\n",
    "\n",
    "#3. Ask player's name\n",
    "name = input(\"Please enter your name\\n\")\n",
    "\n",
    "#4. Is there a character to check (for loop)\n",
    "for chars in name:\n",
    "    #4. If the character vowel subtract 1 score\n",
    "    #else add 1\n",
    "    if chars in vowels:\n",
    "        ---\n",
    "    else:\n",
    "        ---\n",
    "#5. Print total score\n",
    "print(---)"
   ]
  },
  {
   "cell_type": "code",
   "execution_count": null,
   "metadata": {
    "collapsed": true
   },
   "outputs": [],
   "source": []
  }
 ],
 "metadata": {
  "kernelspec": {
   "display_name": "Python 3",
   "language": "python",
   "name": "python3"
  },
  "language_info": {
   "codemirror_mode": {
    "name": "ipython",
    "version": 3
   },
   "file_extension": ".py",
   "mimetype": "text/x-python",
   "name": "python",
   "nbconvert_exporter": "python",
   "pygments_lexer": "ipython3",
   "version": "3.5.0a3"
  }
 },
 "nbformat": 4,
 "nbformat_minor": 0
}
