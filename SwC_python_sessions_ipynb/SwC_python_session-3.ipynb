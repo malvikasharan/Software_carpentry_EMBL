{
 "cells": [
  {
   "cell_type": "markdown",
   "metadata": {},
   "source": [
    "# Session - 3"
   ]
  },
  {
   "cell_type": "markdown",
   "metadata": {},
   "source": [
    "## Running python scripts from the command line"
   ]
  },
  {
   "cell_type": "markdown",
   "metadata": {},
   "source": [
    "![](images/python_cli.png)"
   ]
  },
  {
   "cell_type": "markdown",
   "metadata": {},
   "source": [
    "## Command line argument handling"
   ]
  },
  {
   "cell_type": "code",
   "execution_count": null,
   "metadata": {
    "collapsed": false
   },
   "outputs": [],
   "source": [
    "# sys.argv\n",
    "from sys import argv\n",
    "\n",
    "command_line_arguments = argv[1:]\n",
    "program_name = argv[0]\n",
    "\n",
    "# argparse module\n",
    "from argparse import ArgumentParser\n",
    "\n",
    "parser = ArgumentParser()\n",
    "parser.add_argument('input_file', nargs=1, help='an input file', type=str)\n",
    "parser.add_argument('-z', '--gzipped', help='gzip decompress input before processing',\n",
    "                    type=bool, default=False)\n",
    "args = parser.parse_args()"
   ]
  },
  {
   "cell_type": "markdown",
   "metadata": {},
   "source": [
    "## Flow chart problems"
   ]
  },
  {
   "cell_type": "markdown",
   "metadata": {},
   "source": [
    "## Exercise - 1\n",
    "\n",
    "Use `input()` (or `sys.argv[1]` in commandline) to supply a name to your python script that says 'Hi' only to Alice as shown in the flow chart below.\n",
    "![alice](flow_charts/alice.jpg)\n"
   ]
  },
  {
   "cell_type": "code",
   "execution_count": null,
   "metadata": {
    "collapsed": false
   },
   "outputs": [],
   "source": []
  },
  {
   "cell_type": "markdown",
   "metadata": {},
   "source": [
    "## Exercise - 2\n",
    "\n",
    "Here is a flowchart that tells you what to do if it is raining. Transfer this functionality to a Python function.\n",
    "\n",
    "![rain_fc](flow_charts/rain_fc.jpg)"
   ]
  },
  {
   "cell_type": "code",
   "execution_count": null,
   "metadata": {
    "collapsed": true
   },
   "outputs": [],
   "source": []
  },
  {
   "cell_type": "markdown",
   "metadata": {},
   "source": [
    "## Exercise - 3\n",
    "\n",
    "Go through each filename in the directory 'demo_folder'\n",
    "\n",
    "1. Extract the length of fasta sequence for kinases from the file 'fasta_human_kinase.fasta'\n",
    "2. Extract the UniProt for kinases from the file 'human_kinase.csv'\n",
    "3. Check if your scripts works on other files of same format in the directory\n",
    "4. Automate your script to go through each file and extract these information from each file of same format\n"
   ]
  },
  {
   "cell_type": "code",
   "execution_count": null,
   "metadata": {
    "collapsed": true
   },
   "outputs": [],
   "source": []
  },
  {
   "cell_type": "markdown",
   "metadata": {
    "collapsed": true
   },
   "source": [
    "## Exercise - 4\n",
    "\n",
    "Adapted from: http://usingpython.com/python-for-loop/\n",
    "![for_loop_fc](flow_charts/for_loop_fc.png)"
   ]
  },
  {
   "cell_type": "code",
   "execution_count": null,
   "metadata": {
    "collapsed": false
   },
   "outputs": [],
   "source": [
    "#1. start: set initial value of total_score to 0\n",
    "total_score = 0\n",
    "\n",
    "#2. Create a vovel list\n",
    "vowels = [---]\n",
    "\n",
    "#3. Ask player's name\n",
    "name = input(\"Please enter your name\\n\")\n",
    "\n",
    "#4. Is there a character to check (for loop)\n",
    "for chars in name:\n",
    "    #4. If the character vowel subtract 1 score\n",
    "    #else add 1\n",
    "    if chars in vowels:\n",
    "        ---\n",
    "    else:\n",
    "        ---\n",
    "#5. Print total score\n",
    "print(---)"
   ]
  },
  {
   "cell_type": "markdown",
   "metadata": {
    "collapsed": true
   },
   "source": [
    "## Exercise 5 - Debugging"
   ]
  },
  {
   "cell_type": "markdown",
   "metadata": {},
   "source": [
    "[This repository](https://git.embl.de/stamper/software-carpentry-nov2015) contains a script - `script1.py` - that has been written to calculate statistics about DNA sequences described in a FASTA file.\n",
    "\n",
    "Before you look at the sequence files in this repository, look at the script and discuss:\n",
    "- How easy is it to understand what the script does?\n",
    "- How robust is the script?\n",
    "- Does it follow good coding standards?\n",
    "- Does it do what it is supposed to?\n",
    "- What problems can you foresee, if the script were to be shared with others or applied to a different sequence file?\n",
    "\n",
    "Let's try to improve this script as a group. Our aim is to turn it into something that is\n",
    "- robust\n",
    "- portable\n",
    "- shareable\n",
    "- easy to maintain/adapt\n",
    "- doing what it is supposed to do!"
   ]
  }
 ],
 "metadata": {
  "kernelspec": {
   "display_name": "Python 3",
   "language": "python",
   "name": "python3"
  },
  "language_info": {
   "codemirror_mode": {
    "name": "ipython",
    "version": 3
   },
   "file_extension": ".py",
   "mimetype": "text/x-python",
   "name": "python",
   "nbconvert_exporter": "python",
   "pygments_lexer": "ipython3",
   "version": "3.5.1"
  }
 },
 "nbformat": 4,
 "nbformat_minor": 0
}
